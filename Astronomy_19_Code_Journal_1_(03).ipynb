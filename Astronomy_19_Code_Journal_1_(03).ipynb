{
 "cells": [
  {
   "cell_type": "code",
   "execution_count": 1,
   "id": "8c9f916a",
   "metadata": {},
   "outputs": [],
   "source": [
    "import numpy as np"
   ]
  },
  {
   "cell_type": "code",
   "execution_count": 2,
   "id": "a8e15d33",
   "metadata": {},
   "outputs": [],
   "source": [
    "def f(x):\n",
    "    return(x**3 + 8)\n",
    "\n",
    "def main():\n",
    "    x = 9\n",
    "    f(x)\n",
    "    print(x,\" cubed + 8 = \",f(x))\n",
    "    if(f(x) > 27):\n",
    "        print(f(x),\" is greater than 27, yay!\")"
   ]
  },
  {
   "cell_type": "code",
   "execution_count": 3,
   "id": "247ae293",
   "metadata": {},
   "outputs": [
    {
     "name": "stdout",
     "output_type": "stream",
     "text": [
      "9  cubed + 8 =  737\n",
      "737  is greater than 27, yay!\n"
     ]
    }
   ],
   "source": [
    "if __name__ == \"__main__\":\n",
    "    main()"
   ]
  }
 ],
 "metadata": {
  "kernelspec": {
   "display_name": "Python 3",
   "language": "python",
   "name": "python3"
  },
  "language_info": {
   "codemirror_mode": {
    "name": "ipython",
    "version": 3
   },
   "file_extension": ".py",
   "mimetype": "text/x-python",
   "name": "python",
   "nbconvert_exporter": "python",
   "pygments_lexer": "ipython3",
   "version": "3.9.4"
  }
 },
 "nbformat": 4,
 "nbformat_minor": 5
}
